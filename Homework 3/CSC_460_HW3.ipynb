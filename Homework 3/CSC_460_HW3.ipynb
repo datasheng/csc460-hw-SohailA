{
 "cells": [
  {
   "cell_type": "markdown",
   "metadata": {},
   "source": [
    "## Scrape CCNY 2021 Fall Calendar"
   ]
  },
  {
   "cell_type": "markdown",
   "metadata": {},
   "source": [
    "* Use:\n",
    "    * requests library\n",
    "    * BeautifulSoup\n",
    "    * Pandas"
   ]
  },
  {
   "cell_type": "markdown",
   "metadata": {},
   "source": [
    "* End up with Pandas data frame:\n",
    "    * index column is python date\n",
    "    * \"D.O.F\" Column\n",
    "    * Text column with explaination."
   ]
  },
  {
   "cell_type": "code",
   "execution_count": null,
   "metadata": {},
   "outputs": [],
   "source": [
    "!pip install pandas\n",
    "!pip install beautifulsoup4\n",
    "!pip install requests"
   ]
  },
  {
   "cell_type": "code",
   "execution_count": 1,
   "metadata": {},
   "outputs": [],
   "source": [
    "import requests\n",
    "import pandas as pd\n",
    "from bs4 import BeautifulSoup\n",
    "from datetime import datetime, timedelta\n",
    "import re"
   ]
  },
  {
   "cell_type": "markdown",
   "metadata": {},
   "source": [
    "# Added the imports to start the project, will add more as needed."
   ]
  },
  {
   "cell_type": "markdown",
   "metadata": {},
   "source": [
    "1. Lets set the URL and make the make the request."
   ]
  },
  {
   "cell_type": "code",
   "execution_count": 2,
   "metadata": {},
   "outputs": [],
   "source": [
    "url = 'https://www.ccny.cuny.edu/registrar/fall'\n",
    "\n",
    "response = requests.get(url)\n",
    "html_document = response.text\n"
   ]
  },
  {
   "cell_type": "markdown",
   "metadata": {},
   "source": [
    "2. Parsing the Html"
   ]
  },
  {
   "cell_type": "code",
   "execution_count": 3,
   "metadata": {},
   "outputs": [],
   "source": [
    "soup = BeautifulSoup(html_document, 'html.parser')\n",
    "\n",
    "table = soup.find('table') # since there was only 1 table on the site"
   ]
  },
  {
   "cell_type": "markdown",
   "metadata": {},
   "source": [
    "3. Now wr parse the table "
   ]
  },
  {
   "cell_type": "code",
   "execution_count": 4,
   "metadata": {},
   "outputs": [
    {
     "name": "stderr",
     "output_type": "stream",
     "text": [
      "C:\\Users\\Home\\AppData\\Local\\Temp\\ipykernel_17108\\2724129610.py:37: DeprecationWarning: Parsing dates involving a day of month without a year specified is ambiguious\n",
      "and fails to parse leap day. The default behavior will change in Python 3.15\n",
      "to either always raise an exception or to use a different default year (TBD).\n",
      "To avoid trouble, add a specific year to the input & format.\n",
      "See https://github.com/python/cpython/issues/70647.\n",
      "  else datetime.strptime(date_str, '%B %d').replace(year=2021))\n"
     ]
    }
   ],
   "source": [
    "data = []\n",
    "\n",
    "for row in table.find('tbody').find_all('tr'):\n",
    "    columns = row.find_all('td')\n",
    "    \n",
    "    if len(columns) == 3:\n",
    "        # Extract date, day of the week, and text information\n",
    "        date_str = (columns[0].find('strong').get_text(strip=True) if columns[0].find('strong') else\n",
    "                   columns[0].find('p').get_text(strip=True) if columns[0].find('p') else\n",
    "                   columns[0].get_text(strip=True))\n",
    "        \n",
    "        dow = (columns[1].find('strong').get_text(strip=True) if columns[1].find('strong') else\n",
    "               columns[1].find('p').get_text(strip=True) if columns[1].find('p') else\n",
    "               columns[1].get_text(strip=True))\n",
    "        \n",
    "        text = (''.join([line.get_text(strip=True) for line in columns[2].find_all(['p', 'br'])])\n",
    "                if columns[2].find(['p', 'br']) else columns[2].get_text(strip=True))\n",
    "        \n",
    "        # Handle date ranges and different formats\n",
    "        try:\n",
    "            if '-' in date_str:\n",
    "                # Handle date ranges, e.g., 'August 25 - 31'\n",
    "                start_date_str, end_date_str = re.split(r'\\s*-\\s*', date_str)\n",
    "                start_date = datetime.strptime(start_date_str, '%B %d').replace(year=2021)\n",
    "                \n",
    "                end_date = (datetime.strptime(end_date_str, '%d').replace(month=start_date.month, year=2021)\n",
    "                           if len(end_date_str) <= 2 else\n",
    "                           datetime.strptime(end_date_str, '%B %d').replace(year=2021))\n",
    "                \n",
    "                current_date = start_date\n",
    "                while current_date <= end_date:\n",
    "                    data.append([current_date, dow, text])\n",
    "                    current_date += timedelta(days=1)\n",
    "            else:\n",
    "                # Handle single dates\n",
    "                date = (datetime.strptime(date_str, '%B %d, %Y') if ',' in date_str\n",
    "                       else datetime.strptime(date_str, '%B %d').replace(year=2021))\n",
    "                data.append([date, dow, text])\n",
    "                \n",
    "        except ValueError as e:\n",
    "            print(f\"Skipping invalid date: {date_str}, error: {e}\")\n",
    "            continue"
   ]
  },
  {
   "cell_type": "markdown",
   "metadata": {},
   "source": [
    "4. We create the dataframe"
   ]
  },
  {
   "cell_type": "code",
   "execution_count": 5,
   "metadata": {},
   "outputs": [
    {
     "name": "stdout",
     "output_type": "stream",
     "text": [
      "                             dow  \\\n",
      "date                               \n",
      "2021-08-01                Sunday   \n",
      "2021-08-18             Wednesday   \n",
      "2021-08-24               Tuesday   \n",
      "2021-08-25             Wednesday   \n",
      "2021-08-25   Wednesday - Tuesday   \n",
      "2021-08-26   Wednesday - Tuesday   \n",
      "2021-08-27   Wednesday - Tuesday   \n",
      "2021-08-28   Wednesday - Tuesday   \n",
      "2021-08-29   Wednesday - Tuesday   \n",
      "2021-08-30   Wednesday - Tuesday   \n",
      "2021-08-31   Wednesday - Tuesday   \n",
      "2021-08-26              Thursday   \n",
      "2021-08-28              Saturday   \n",
      "2021-08-31               Tuesday   \n",
      "2021-09-01             Wednesday   \n",
      "2021-09-03    Friday - Wednesday   \n",
      "2021-09-04    Friday - Wednesday   \n",
      "2021-09-05    Friday - Wednesday   \n",
      "2021-09-06    Friday - Wednesday   \n",
      "2021-09-07    Friday - Wednesday   \n",
      "2021-09-08    Friday - Wednesday   \n",
      "2021-09-06                Monday   \n",
      "2021-09-09              Thursday   \n",
      "2021-09-14               Tuesday   \n",
      "2021-09-15             Wednesday   \n",
      "2021-09-15  Wednesday - Thursday   \n",
      "2021-09-16  Wednesday - Thursday   \n",
      "2021-09-23              Thursday   \n",
      "2021-09-24                Friday   \n",
      "2021-10-01                Friday   \n",
      "2021-10-08                Friday   \n",
      "2021-10-11                Monday   \n",
      "2021-11-01                Monday   \n",
      "2021-11-02               Tuesday   \n",
      "2021-11-04              Thursday   \n",
      "2021-11-06              Saturday   \n",
      "2021-11-23               Tuesday   \n",
      "2021-11-25     Thursday - Sunday   \n",
      "2021-11-26     Thursday - Sunday   \n",
      "2021-11-27     Thursday - Sunday   \n",
      "2021-11-28     Thursday - Sunday   \n",
      "2021-12-11              Saturday   \n",
      "2021-12-13                Monday   \n",
      "2021-12-14               Tuesday   \n",
      "2021-12-15   Wednesday - Tuesday   \n",
      "2021-12-16   Wednesday - Tuesday   \n",
      "2021-12-17   Wednesday - Tuesday   \n",
      "2021-12-18   Wednesday - Tuesday   \n",
      "2021-12-19   Wednesday - Tuesday   \n",
      "2021-12-20   Wednesday - Tuesday   \n",
      "2021-12-21   Wednesday - Tuesday   \n",
      "2021-12-21               Tuesday   \n",
      "2021-12-24     Friday - Saturday   \n",
      "2021-12-25     Friday - Saturday   \n",
      "2021-12-27                Monday   \n",
      "2021-12-28               Tuesday   \n",
      "2021-12-31                Friday   \n",
      "2022-01-01              Saturday   \n",
      "\n",
      "                                                         text  \n",
      "date                                                           \n",
      "2021-08-01  Application for degree for January and Februar...  \n",
      "2021-08-18                 Last day to apply for Study Abroad  \n",
      "2021-08-24  Last day of Registration;Last day to file ePer...  \n",
      "2021-08-25  Start of Fall Term;Classes begin;Initial Regis...  \n",
      "2021-08-25          Change of program period; late fees apply  \n",
      "2021-08-26          Change of program period; late fees apply  \n",
      "2021-08-27          Change of program period; late fees apply  \n",
      "2021-08-28          Change of program period; late fees apply  \n",
      "2021-08-29          Change of program period; late fees apply  \n",
      "2021-08-30          Change of program period; late fees apply  \n",
      "2021-08-31          Change of program period; late fees apply  \n",
      "2021-08-26                     Last day for Independent Study  \n",
      "2021-08-28                      First day of Saturday Classes  \n",
      "2021-08-31  Last day to add a class to an existing enrollm...  \n",
      "2021-09-01  Verification of Enrollment rosters available t...  \n",
      "2021-09-03                               No classes scheduled  \n",
      "2021-09-04                               No classes scheduled  \n",
      "2021-09-05                               No classes scheduled  \n",
      "2021-09-06                               No classes scheduled  \n",
      "2021-09-07                               No classes scheduled  \n",
      "2021-09-08                               No classes scheduled  \n",
      "2021-09-06    College Closed;Last day for 50% tuition refund;  \n",
      "2021-09-09                               Freshman Convocation  \n",
      "2021-09-14  Last day for 25% tuition refund;Census date;La...  \n",
      "2021-09-15  Assignment of 'WN' grades for non-attendance;C...  \n",
      "2021-09-15                               No classes scheduled  \n",
      "2021-09-16                               No classes scheduled  \n",
      "2021-09-23  Last day to submit proof of immunization for N...  \n",
      "2021-09-24  Assignment of 'WA' grades for immunization non...  \n",
      "2021-10-01  Advising month begins for Spring and Winter en...  \n",
      "2021-10-08  Deadline for filing application for degree for...  \n",
      "2021-10-11                                     College Closed  \n",
      "2021-11-01  'INC' grades for Spring 2021 and Winter 2021 f...  \n",
      "2021-11-02  Registration appointments for Winter and Sprin...  \n",
      "2021-11-04                   Last day to file for P/NC option  \n",
      "2021-11-06                               60% Date of the term  \n",
      "2021-11-23  'INC' grades for Summer 2021 for Undergraduate...  \n",
      "2021-11-25                                     College Closed  \n",
      "2021-11-26                                     College Closed  \n",
      "2021-11-27                                     College Closed  \n",
      "2021-11-28                                     College Closed  \n",
      "2021-12-11                       Last day of Saturday Classes  \n",
      "2021-12-13  Course Withdrawal period ends (Last day to wit...  \n",
      "2021-12-14                                        Reading Day  \n",
      "2021-12-15                                 Final Examinations  \n",
      "2021-12-16                                 Final Examinations  \n",
      "2021-12-17                                 Final Examinations  \n",
      "2021-12-18                                 Final Examinations  \n",
      "2021-12-19                                 Final Examinations  \n",
      "2021-12-20                                 Final Examinations  \n",
      "2021-12-21                                 Final Examinations  \n",
      "2021-12-21                                        End of Term  \n",
      "2021-12-24                                     College Closed  \n",
      "2021-12-25                                     College Closed  \n",
      "2021-12-27                                     College Closed  \n",
      "2021-12-28      Final Grade Submission Deadline for Fall 2021  \n",
      "2021-12-31                                     College Closed  \n",
      "2022-01-01    College Closed;Fall 2021 Degree Conferral Date;  \n"
     ]
    }
   ],
   "source": [
    "df = pd.DataFrame(data, columns=['date', 'dow', 'text'])\n",
    "df.set_index('date', inplace=True)\n",
    "\n",
    "print(df)"
   ]
  },
  {
   "cell_type": "code",
   "execution_count": null,
   "metadata": {},
   "outputs": [],
   "source": []
  }
 ],
 "metadata": {
  "kernelspec": {
   "display_name": "Python 3 (ipykernel)",
   "language": "python",
   "name": "python3"
  },
  "language_info": {
   "codemirror_mode": {
    "name": "ipython",
    "version": 3
   },
   "file_extension": ".py",
   "mimetype": "text/x-python",
   "name": "python",
   "nbconvert_exporter": "python",
   "pygments_lexer": "ipython3",
   "version": "3.13.0"
  }
 },
 "nbformat": 4,
 "nbformat_minor": 4
}
